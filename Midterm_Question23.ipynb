{
 "cells": [
  {
   "cell_type": "code",
   "execution_count": 3,
   "id": "3e4a6762",
   "metadata": {},
   "outputs": [],
   "source": [
    "# Here first we are defining the function tough.\n",
    "def tough(indentation, number): # we are taking two non-negative argument one represents indentation and other one\n",
    "                               # indicates the number of * in the longest line and it is power of 2. \n",
    "    if number == 0:\n",
    "        return None\n",
    "    \n",
    "    if number == 2:  # so if number is 2 it will print the follwing pattern. \n",
    "        print(\" \" * indentation + \"*\")\n",
    "        print(\" \" * indentation + \"**\")\n",
    "        print(\" \" * indentation + \" *\")\n",
    "    else:\n",
    "        tough(indentation, number // 2)   # recursion of tough. Suppose here argument is tough(0,4) then it will print the pattern for (0,2)\n",
    "        print(\" \" * indentation + \"*\" * number) # then it will print 4 times **** \n",
    "        tough(indentation + number // 2, number // 2) # now our identation will become 2 so it will print the pattern for (2,2)."
   ]
  },
  {
   "cell_type": "code",
   "execution_count": 4,
   "id": "7b926e78",
   "metadata": {},
   "outputs": [],
   "source": [
    "tough(0,0)"
   ]
  },
  {
   "cell_type": "code",
   "execution_count": 8,
   "id": "ba7d5742",
   "metadata": {},
   "outputs": [
    {
     "name": "stdout",
     "output_type": "stream",
     "text": [
      "*\n"
     ]
    }
   ],
   "source": [
    "tough(0,1)"
   ]
  },
  {
   "cell_type": "code",
   "execution_count": 5,
   "id": "24dba37d",
   "metadata": {},
   "outputs": [
    {
     "name": "stdout",
     "output_type": "stream",
     "text": [
      "*\n",
      "**\n",
      " *\n"
     ]
    }
   ],
   "source": [
    "tough(0,2)"
   ]
  },
  {
   "cell_type": "code",
   "execution_count": 7,
   "id": "31494842",
   "metadata": {},
   "outputs": [
    {
     "name": "stdout",
     "output_type": "stream",
     "text": [
      "*\n",
      "**\n",
      " *\n",
      "****\n",
      "  *\n",
      "  **\n",
      "   *\n"
     ]
    }
   ],
   "source": [
    "tough(0,4)"
   ]
  },
  {
   "cell_type": "code",
   "execution_count": null,
   "id": "5b29ebe4",
   "metadata": {},
   "outputs": [],
   "source": []
  }
 ],
 "metadata": {
  "kernelspec": {
   "display_name": "Python 3 (ipykernel)",
   "language": "python",
   "name": "python3"
  },
  "language_info": {
   "codemirror_mode": {
    "name": "ipython",
    "version": 3
   },
   "file_extension": ".py",
   "mimetype": "text/x-python",
   "name": "python",
   "nbconvert_exporter": "python",
   "pygments_lexer": "ipython3",
   "version": "3.9.12"
  }
 },
 "nbformat": 4,
 "nbformat_minor": 5
}
