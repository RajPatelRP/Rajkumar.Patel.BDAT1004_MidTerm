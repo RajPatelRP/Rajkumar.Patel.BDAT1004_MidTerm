{
 "cells": [
  {
   "cell_type": "code",
   "execution_count": 1,
   "id": "1d731c48",
   "metadata": {},
   "outputs": [],
   "source": [
    "# importing sqlite3 to make connection.\n",
    "import sqlite3"
   ]
  },
  {
   "cell_type": "code",
   "execution_count": 24,
   "id": "44d9d540",
   "metadata": {},
   "outputs": [],
   "source": [
    "# connecting to sqlite. And this line will connect to Temperature1 database and it will create one if it not exist.\n",
    "conn = sqlite3.connect('Temperature1.db')"
   ]
  },
  {
   "cell_type": "code",
   "execution_count": 25,
   "id": "8d48f1c8",
   "metadata": {},
   "outputs": [],
   "source": [
    "# Creating a cursor object to execute SQL queries\n",
    "cursor = conn.cursor()"
   ]
  },
  {
   "cell_type": "code",
   "execution_count": 26,
   "id": "bc15d778",
   "metadata": {},
   "outputs": [
    {
     "data": {
      "text/plain": [
       "<sqlite3.Cursor at 0x1e263262ce0>"
      ]
     },
     "execution_count": 26,
     "metadata": {},
     "output_type": "execute_result"
    }
   ],
   "source": [
    "# Creating the Weather table and providing the type for the columns. id and temp as an integer value while recordDate is date type.\n",
    "cursor.execute('''\n",
    "    CREATE TABLE IF NOT EXISTS Weather ( \n",
    "        id INTEGER,\n",
    "        recordDate DATE,\n",
    "        temperature INTEGER\n",
    "    )\n",
    "''')"
   ]
  },
  {
   "cell_type": "code",
   "execution_count": 27,
   "id": "72a9ae11",
   "metadata": {},
   "outputs": [],
   "source": [
    "# Inserting the given data into the Weather table\n",
    "records = [\n",
    "    (1, '2015-01-01', 10),\n",
    "    (2, '2015-01-02', 25),\n",
    "    (3, '2015-01-03', 20),\n",
    "    (4, '2015-01-04', 30),\n",
    "]\n",
    "\n",
    "cursor.executemany('INSERT INTO Weather (id, recordDate, temperature) VALUES (?, ?, ?)', records)\n",
    "conn.commit()"
   ]
  },
  {
   "cell_type": "code",
   "execution_count": 28,
   "id": "e4ed1631",
   "metadata": {},
   "outputs": [
    {
     "data": {
      "text/plain": [
       "<sqlite3.Cursor at 0x1e263262ce0>"
      ]
     },
     "execution_count": 28,
     "metadata": {},
     "output_type": "execute_result"
    }
   ],
   "source": [
    "# Execute the query to find dates with higher temperatures than the previous day\n",
    "cursor.execute('''\n",
    "    SELECT column1.id\n",
    "    FROM Weather column1\n",
    "    JOIN Weather column2 ON DATE(column1.recordDate, '-1 day') = column2.recordDate\n",
    "    WHERE column1.temperature > column2.temperature\n",
    "''')"
   ]
  },
  {
   "cell_type": "markdown",
   "id": "2badf6f8",
   "metadata": {},
   "source": [
    "In the above cell first we selecting the first column of weather table which is id.\n",
    "column1 and column2 both are alias here.\n",
    "Now with the help of the JOIN we are performing self join operation where we are matching row of column1 with previous day.\n",
    "with the date function we are getting the date of previous day.\n",
    "and then with the help of where we are comparing the temperstures of both days."
   ]
  },
  {
   "cell_type": "code",
   "execution_count": 29,
   "id": "b56c18aa",
   "metadata": {},
   "outputs": [],
   "source": [
    "result = cursor.fetchall() # with the help of fetch all we fetching the result of above queries."
   ]
  },
  {
   "cell_type": "code",
   "execution_count": 30,
   "id": "4d88c22f",
   "metadata": {},
   "outputs": [
    {
     "name": "stdout",
     "output_type": "stream",
     "text": [
      "[(2,), (4,)]\n"
     ]
    }
   ],
   "source": [
    "print(result)"
   ]
  },
  {
   "cell_type": "code",
   "execution_count": 31,
   "id": "dcef1625",
   "metadata": {},
   "outputs": [],
   "source": [
    "conn.close()"
   ]
  },
  {
   "cell_type": "code",
   "execution_count": null,
   "id": "ec8cbf03",
   "metadata": {},
   "outputs": [],
   "source": []
  }
 ],
 "metadata": {
  "kernelspec": {
   "display_name": "Python 3 (ipykernel)",
   "language": "python",
   "name": "python3"
  },
  "language_info": {
   "codemirror_mode": {
    "name": "ipython",
    "version": 3
   },
   "file_extension": ".py",
   "mimetype": "text/x-python",
   "name": "python",
   "nbconvert_exporter": "python",
   "pygments_lexer": "ipython3",
   "version": "3.9.12"
  }
 },
 "nbformat": 4,
 "nbformat_minor": 5
}
