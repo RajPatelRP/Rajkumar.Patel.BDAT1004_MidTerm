{
 "cells": [
  {
   "cell_type": "code",
   "execution_count": 19,
   "id": "2ee53a9a",
   "metadata": {},
   "outputs": [],
   "source": [
    "# Here first importing the library to implement code.\n",
    "import math\n",
    "\n",
    "# First we are creating class point which has a constructor. it takes pair point  as an input.  \n",
    "class Point:\n",
    "    def __init__(self, a=0, b=0):\n",
    "        self.a = a\n",
    "        self.b = b\n",
    "\n",
    "class Segment: # here we can see that Class segment takes point 1(p1) and point 2(p2) as an input which is also endpoint of line segment.\n",
    "    def __init__(self, p1, p2):\n",
    "        self.p1 = p1\n",
    "        self.p2 = p2\n",
    "    \n",
    "    # Now length function for finding the length of line.\n",
    "    def Length(self):\n",
    "        dx = self.p2.a - self.p1.a # subtracting point 2 of line with point 1.\n",
    "        dy = self.p2.b - self.p1.b\n",
    "        return math.sqrt(dx**2 + dy**2) # taking the square root of both points with the help of math library.\n",
    "\n",
    "    def Slope(self):\n",
    "        if self.p1.a == self.p2.a: # here checking for the slope if it doesnoe exist it will return none.\n",
    "            return None\n",
    "        else:\n",
    "            return (self.p1.a - self.p2.a) / (self.p1.b - self.p2.b) # otherwise it will execute this formula.\n",
    "                                                                     # here slope should be y/x but as per the given quesion in midterm I have\n",
    "                                                                     # write formula as x/y."
   ]
  },
  {
   "cell_type": "code",
   "execution_count": 20,
   "id": "282d23d8",
   "metadata": {},
   "outputs": [
    {
     "data": {
      "text/plain": [
       "5.0"
      ]
     },
     "execution_count": 20,
     "metadata": {},
     "output_type": "execute_result"
    }
   ],
   "source": [
    "p1 = Point(3,4)\n",
    "p2 = Point()\n",
    "s = Segment(p1,p2)\n",
    "s.Length()"
   ]
  },
  {
   "cell_type": "code",
   "execution_count": 21,
   "id": "6aa0cad2",
   "metadata": {},
   "outputs": [
    {
     "data": {
      "text/plain": [
       "0.75"
      ]
     },
     "execution_count": 21,
     "metadata": {},
     "output_type": "execute_result"
    }
   ],
   "source": [
    "s.Slope()"
   ]
  },
  {
   "cell_type": "code",
   "execution_count": 22,
   "id": "bbbe8d56",
   "metadata": {},
   "outputs": [
    {
     "data": {
      "text/plain": [
       "0.0"
      ]
     },
     "execution_count": 22,
     "metadata": {},
     "output_type": "execute_result"
    }
   ],
   "source": [
    "p1 = Point(2,2)\n",
    "p2 = Point(2,2)\n",
    "s1 = Segment(p1,p2)\n",
    "s1.Length()"
   ]
  },
  {
   "cell_type": "code",
   "execution_count": 23,
   "id": "1558141b",
   "metadata": {},
   "outputs": [],
   "source": [
    "s1.Slope() # here we can see if we have same line end points then it won't return any slope."
   ]
  },
  {
   "cell_type": "code",
   "execution_count": null,
   "id": "26d8dce2",
   "metadata": {},
   "outputs": [],
   "source": []
  }
 ],
 "metadata": {
  "kernelspec": {
   "display_name": "Python 3 (ipykernel)",
   "language": "python",
   "name": "python3"
  },
  "language_info": {
   "codemirror_mode": {
    "name": "ipython",
    "version": 3
   },
   "file_extension": ".py",
   "mimetype": "text/x-python",
   "name": "python",
   "nbconvert_exporter": "python",
   "pygments_lexer": "ipython3",
   "version": "3.9.12"
  }
 },
 "nbformat": 4,
 "nbformat_minor": 5
}
